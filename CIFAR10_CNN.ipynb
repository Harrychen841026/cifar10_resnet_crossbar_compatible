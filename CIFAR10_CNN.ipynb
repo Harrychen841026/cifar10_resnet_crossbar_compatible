{
 "cells": [
  {
   "cell_type": "code",
   "execution_count": 28,
   "metadata": {},
   "outputs": [],
   "source": [
    "from __future__ import print_function\n",
    "import tensorflow as tf\n",
    "import tensorflow.keras as keras\n",
    "from tensorflow.keras.optimizers import Adam\n",
    "from tensorflow.keras import backend as K\n",
    "from tensorflow.keras.models import Model\n",
    "from tensorflow.keras.datasets import cifar10\n",
    "import numpy as np\n",
    "import os\n",
    "import sys\n",
    "from layer_utils import activation_quant, conv2d_noise, dense_noise\n",
    "from resnet_model import resnet_v1, resnet_v2\n",
    "from layers_numpy import *"
   ]
  },
  {
   "cell_type": "code",
   "execution_count": 2,
   "metadata": {},
   "outputs": [],
   "source": [
    "num_classes = 10\n",
    "\n",
    "# Subtracting pixel mean improves accuracy\n",
    "subtract_pixel_mean = False\n",
    "\n",
    "n = 3\n",
    "\n",
    "# Model version\n",
    "# Orig paper: version = 1 (ResNet v1), Improved ResNet: version = 2 (ResNet v2)\n",
    "version = 1\n",
    "\n",
    "# Computed depth from supplied model parameter n\n",
    "if version == 1:\n",
    "    depth = n * 6 + 2\n",
    "elif version == 2:\n",
    "    depth = n * 9 + 2"
   ]
  },
  {
   "cell_type": "code",
   "execution_count": 3,
   "metadata": {},
   "outputs": [
    {
     "name": "stdout",
     "output_type": "stream",
     "text": [
      "x_train shape: (50000, 32, 32, 3)\n",
      "50000 train samples\n",
      "10000 test samples\n",
      "y_train shape: (50000, 1)\n"
     ]
    }
   ],
   "source": [
    "# Load the CIFAR10 data.\n",
    "(x_train, y_train), (x_test, y_test) = cifar10.load_data()\n",
    "\n",
    "# Input image dimensions.\n",
    "input_shape = x_train.shape[1:]\n",
    "\n",
    "# Normalize data.\n",
    "x_train = x_train.astype('float32') / 255\n",
    "x_test = x_test.astype('float32') / 255\n",
    "\n",
    "# If subtract pixel mean is enabled\n",
    "if subtract_pixel_mean:\n",
    "    x_train_mean = np.mean(x_train, axis=0)\n",
    "    x_train -= x_train_mean\n",
    "    x_test -= x_train_mean\n",
    "\n",
    "print('x_train shape:', x_train.shape)\n",
    "print(x_train.shape[0], 'train samples')\n",
    "print(x_test.shape[0], 'test samples')\n",
    "print('y_train shape:', y_train.shape)\n",
    "\n",
    "# Convert class vectors to binary class matrices.\n",
    "y_train = keras.utils.to_categorical(y_train, num_classes)\n",
    "y_test = keras.utils.to_categorical(y_test, num_classes)"
   ]
  },
  {
   "cell_type": "code",
   "execution_count": 4,
   "metadata": {},
   "outputs": [],
   "source": [
    "# x_train_3bit = quantize_rescale(quantize_unsigned(x_train, 3, 1.0), 3, 1.0)\n",
    "x_test_3bit = quantize_rescale(quantize_unsigned(x_test, 3, 0.95), 3, 0.95)"
   ]
  },
  {
   "cell_type": "code",
   "execution_count": 5,
   "metadata": {},
   "outputs": [
    {
     "name": "stdout",
     "output_type": "stream",
     "text": [
      "ResNet20v1_act3b_wnoise0.20\n"
     ]
    }
   ],
   "source": [
    "activation_bits = 3\n",
    "model_name = 'act%db_wnoise0.20' % activation_bits\n",
    "\n",
    "# Model name, depth and version\n",
    "model_type = 'ResNet%dv%d_%s' % (depth, version, model_name)\n",
    "print(model_type)"
   ]
  },
  {
   "cell_type": "code",
   "execution_count": 29,
   "metadata": {},
   "outputs": [
    {
     "name": "stdout",
     "output_type": "stream",
     "text": [
      "Model: \"model\"\n",
      "__________________________________________________________________________________________________\n",
      "Layer (type)                    Output Shape         Param #     Connected to                     \n",
      "==================================================================================================\n",
      "input_1 (InputLayer)            [(None, 32, 32, 3)]  0                                            \n",
      "__________________________________________________________________________________________________\n",
      "conv2d_noise (conv2d_noise)     (None, 32, 32, 12)   336         input_1[0][0]                    \n",
      "__________________________________________________________________________________________________\n",
      "batch_normalization (BatchNorma (None, 32, 32, 12)   48          conv2d_noise[0][0]               \n",
      "__________________________________________________________________________________________________\n",
      "activation_quant (activation_qu (None, 32, 32, 12)   1           batch_normalization[0][0]        \n",
      "__________________________________________________________________________________________________\n",
      "conv2d_noise_1 (conv2d_noise)   (None, 32, 32, 12)   1308        activation_quant[0][0]           \n",
      "__________________________________________________________________________________________________\n",
      "batch_normalization_1 (BatchNor (None, 32, 32, 12)   48          conv2d_noise_1[0][0]             \n",
      "__________________________________________________________________________________________________\n",
      "activation_quant_1 (activation_ (None, 32, 32, 12)   1           batch_normalization_1[0][0]      \n",
      "__________________________________________________________________________________________________\n",
      "conv2d_noise_2 (conv2d_noise)   (None, 32, 32, 12)   1308        activation_quant_1[0][0]         \n",
      "__________________________________________________________________________________________________\n",
      "batch_normalization_2 (BatchNor (None, 32, 32, 12)   48          conv2d_noise_2[0][0]             \n",
      "__________________________________________________________________________________________________\n",
      "add (Add)                       (None, 32, 32, 12)   0           activation_quant[0][0]           \n",
      "                                                                 batch_normalization_2[0][0]      \n",
      "__________________________________________________________________________________________________\n",
      "activation_quant_2 (activation_ (None, 32, 32, 12)   1           add[0][0]                        \n",
      "__________________________________________________________________________________________________\n",
      "conv2d_noise_3 (conv2d_noise)   (None, 32, 32, 12)   1308        activation_quant_2[0][0]         \n",
      "__________________________________________________________________________________________________\n",
      "batch_normalization_3 (BatchNor (None, 32, 32, 12)   48          conv2d_noise_3[0][0]             \n",
      "__________________________________________________________________________________________________\n",
      "activation_quant_3 (activation_ (None, 32, 32, 12)   1           batch_normalization_3[0][0]      \n",
      "__________________________________________________________________________________________________\n",
      "conv2d_noise_4 (conv2d_noise)   (None, 32, 32, 12)   1308        activation_quant_3[0][0]         \n",
      "__________________________________________________________________________________________________\n",
      "batch_normalization_4 (BatchNor (None, 32, 32, 12)   48          conv2d_noise_4[0][0]             \n",
      "__________________________________________________________________________________________________\n",
      "add_1 (Add)                     (None, 32, 32, 12)   0           activation_quant_2[0][0]         \n",
      "                                                                 batch_normalization_4[0][0]      \n",
      "__________________________________________________________________________________________________\n",
      "activation_quant_4 (activation_ (None, 32, 32, 12)   1           add_1[0][0]                      \n",
      "__________________________________________________________________________________________________\n",
      "conv2d_noise_5 (conv2d_noise)   (None, 32, 32, 12)   1308        activation_quant_4[0][0]         \n",
      "__________________________________________________________________________________________________\n",
      "batch_normalization_5 (BatchNor (None, 32, 32, 12)   48          conv2d_noise_5[0][0]             \n",
      "__________________________________________________________________________________________________\n",
      "activation_quant_5 (activation_ (None, 32, 32, 12)   1           batch_normalization_5[0][0]      \n",
      "__________________________________________________________________________________________________\n",
      "conv2d_noise_6 (conv2d_noise)   (None, 32, 32, 12)   1308        activation_quant_5[0][0]         \n",
      "__________________________________________________________________________________________________\n",
      "batch_normalization_6 (BatchNor (None, 32, 32, 12)   48          conv2d_noise_6[0][0]             \n",
      "__________________________________________________________________________________________________\n",
      "add_2 (Add)                     (None, 32, 32, 12)   0           activation_quant_4[0][0]         \n",
      "                                                                 batch_normalization_6[0][0]      \n",
      "__________________________________________________________________________________________________\n",
      "activation_quant_6 (activation_ (None, 32, 32, 12)   1           add_2[0][0]                      \n",
      "__________________________________________________________________________________________________\n",
      "conv2d_noise_7 (conv2d_noise)   (None, 16, 16, 24)   2616        activation_quant_6[0][0]         \n",
      "__________________________________________________________________________________________________\n",
      "batch_normalization_7 (BatchNor (None, 16, 16, 24)   96          conv2d_noise_7[0][0]             \n",
      "__________________________________________________________________________________________________\n",
      "activation_quant_7 (activation_ (None, 16, 16, 24)   1           batch_normalization_7[0][0]      \n",
      "__________________________________________________________________________________________________\n",
      "conv2d_noise_8 (conv2d_noise)   (None, 16, 16, 24)   5208        activation_quant_7[0][0]         \n",
      "__________________________________________________________________________________________________\n",
      "conv2d_noise_9 (conv2d_noise)   (None, 16, 16, 24)   312         activation_quant_6[0][0]         \n",
      "__________________________________________________________________________________________________\n",
      "batch_normalization_8 (BatchNor (None, 16, 16, 24)   96          conv2d_noise_8[0][0]             \n",
      "__________________________________________________________________________________________________\n",
      "add_3 (Add)                     (None, 16, 16, 24)   0           conv2d_noise_9[0][0]             \n",
      "                                                                 batch_normalization_8[0][0]      \n",
      "__________________________________________________________________________________________________\n",
      "activation_quant_8 (activation_ (None, 16, 16, 24)   1           add_3[0][0]                      \n",
      "__________________________________________________________________________________________________\n",
      "conv2d_noise_10 (conv2d_noise)  (None, 16, 16, 24)   5208        activation_quant_8[0][0]         \n",
      "__________________________________________________________________________________________________\n",
      "batch_normalization_9 (BatchNor (None, 16, 16, 24)   96          conv2d_noise_10[0][0]            \n",
      "__________________________________________________________________________________________________\n",
      "activation_quant_9 (activation_ (None, 16, 16, 24)   1           batch_normalization_9[0][0]      \n",
      "__________________________________________________________________________________________________\n",
      "conv2d_noise_11 (conv2d_noise)  (None, 16, 16, 24)   5208        activation_quant_9[0][0]         \n",
      "__________________________________________________________________________________________________\n",
      "batch_normalization_10 (BatchNo (None, 16, 16, 24)   96          conv2d_noise_11[0][0]            \n",
      "__________________________________________________________________________________________________\n",
      "add_4 (Add)                     (None, 16, 16, 24)   0           activation_quant_8[0][0]         \n",
      "                                                                 batch_normalization_10[0][0]     \n",
      "__________________________________________________________________________________________________\n",
      "activation_quant_10 (activation (None, 16, 16, 24)   1           add_4[0][0]                      \n",
      "__________________________________________________________________________________________________\n",
      "conv2d_noise_12 (conv2d_noise)  (None, 16, 16, 24)   5208        activation_quant_10[0][0]        \n",
      "__________________________________________________________________________________________________\n",
      "batch_normalization_11 (BatchNo (None, 16, 16, 24)   96          conv2d_noise_12[0][0]            \n",
      "__________________________________________________________________________________________________\n",
      "activation_quant_11 (activation (None, 16, 16, 24)   1           batch_normalization_11[0][0]     \n",
      "__________________________________________________________________________________________________\n",
      "conv2d_noise_13 (conv2d_noise)  (None, 16, 16, 24)   5208        activation_quant_11[0][0]        \n",
      "__________________________________________________________________________________________________\n",
      "batch_normalization_12 (BatchNo (None, 16, 16, 24)   96          conv2d_noise_13[0][0]            \n",
      "__________________________________________________________________________________________________\n",
      "add_5 (Add)                     (None, 16, 16, 24)   0           activation_quant_10[0][0]        \n",
      "                                                                 batch_normalization_12[0][0]     \n",
      "__________________________________________________________________________________________________\n",
      "activation_quant_12 (activation (None, 16, 16, 24)   1           add_5[0][0]                      \n",
      "__________________________________________________________________________________________________\n",
      "conv2d_noise_14 (conv2d_noise)  (None, 8, 8, 48)     10416       activation_quant_12[0][0]        \n",
      "__________________________________________________________________________________________________\n",
      "batch_normalization_13 (BatchNo (None, 8, 8, 48)     192         conv2d_noise_14[0][0]            \n",
      "__________________________________________________________________________________________________\n",
      "activation_quant_13 (activation (None, 8, 8, 48)     1           batch_normalization_13[0][0]     \n",
      "__________________________________________________________________________________________________\n",
      "conv2d_noise_15 (conv2d_noise)  (None, 8, 8, 48)     20784       activation_quant_13[0][0]        \n",
      "__________________________________________________________________________________________________\n",
      "conv2d_noise_16 (conv2d_noise)  (None, 8, 8, 48)     1200        activation_quant_12[0][0]        \n",
      "__________________________________________________________________________________________________\n",
      "batch_normalization_14 (BatchNo (None, 8, 8, 48)     192         conv2d_noise_15[0][0]            \n",
      "__________________________________________________________________________________________________\n",
      "add_6 (Add)                     (None, 8, 8, 48)     0           conv2d_noise_16[0][0]            \n",
      "                                                                 batch_normalization_14[0][0]     \n",
      "__________________________________________________________________________________________________\n",
      "activation_quant_14 (activation (None, 8, 8, 48)     1           add_6[0][0]                      \n",
      "__________________________________________________________________________________________________\n",
      "conv2d_noise_17 (conv2d_noise)  (None, 8, 8, 48)     20784       activation_quant_14[0][0]        \n",
      "__________________________________________________________________________________________________\n",
      "batch_normalization_15 (BatchNo (None, 8, 8, 48)     192         conv2d_noise_17[0][0]            \n",
      "__________________________________________________________________________________________________\n",
      "activation_quant_15 (activation (None, 8, 8, 48)     1           batch_normalization_15[0][0]     \n",
      "__________________________________________________________________________________________________\n",
      "conv2d_noise_18 (conv2d_noise)  (None, 8, 8, 48)     20784       activation_quant_15[0][0]        \n",
      "__________________________________________________________________________________________________\n",
      "batch_normalization_16 (BatchNo (None, 8, 8, 48)     192         conv2d_noise_18[0][0]            \n",
      "__________________________________________________________________________________________________\n",
      "add_7 (Add)                     (None, 8, 8, 48)     0           activation_quant_14[0][0]        \n",
      "                                                                 batch_normalization_16[0][0]     \n",
      "__________________________________________________________________________________________________\n",
      "activation_quant_16 (activation (None, 8, 8, 48)     1           add_7[0][0]                      \n",
      "__________________________________________________________________________________________________\n",
      "conv2d_noise_19 (conv2d_noise)  (None, 8, 8, 48)     20784       activation_quant_16[0][0]        \n",
      "__________________________________________________________________________________________________\n",
      "batch_normalization_17 (BatchNo (None, 8, 8, 48)     192         conv2d_noise_19[0][0]            \n",
      "__________________________________________________________________________________________________\n",
      "activation_quant_17 (activation (None, 8, 8, 48)     1           batch_normalization_17[0][0]     \n",
      "__________________________________________________________________________________________________\n",
      "conv2d_noise_20 (conv2d_noise)  (None, 8, 8, 48)     20784       activation_quant_17[0][0]        \n",
      "__________________________________________________________________________________________________\n",
      "batch_normalization_18 (BatchNo (None, 8, 8, 48)     192         conv2d_noise_20[0][0]            \n",
      "__________________________________________________________________________________________________\n",
      "add_8 (Add)                     (None, 8, 8, 48)     0           activation_quant_16[0][0]        \n",
      "                                                                 batch_normalization_18[0][0]     \n",
      "__________________________________________________________________________________________________\n",
      "activation_quant_18 (activation (None, 8, 8, 48)     1           add_8[0][0]                      \n",
      "__________________________________________________________________________________________________\n",
      "average_pooling2d (AveragePooli (None, 1, 1, 48)     0           activation_quant_18[0][0]        \n",
      "__________________________________________________________________________________________________\n",
      "flatten (Flatten)               (None, 48)           0           average_pooling2d[0][0]          \n",
      "__________________________________________________________________________________________________\n",
      "dense_noise (dense_noise)       (None, 10)           490         flatten[0][0]                    \n",
      "==================================================================================================\n",
      "Total params: 155,261\n",
      "Trainable params: 154,229\n",
      "Non-trainable params: 1,032\n",
      "__________________________________________________________________________________________________\n",
      "ResNet20v1_act3b_wnoise0.20\n"
     ]
    }
   ],
   "source": [
    "K.clear_session()\n",
    "\n",
    "if version == 2:\n",
    "    model = resnet_v2(input_shape=input_shape,\n",
    "                      depth=depth,\n",
    "                      activation_bits=activation_bits,\n",
    "                      weight_noise=0.00)\n",
    "else:\n",
    "    model = resnet_v1(input_shape=input_shape,\n",
    "                      depth=depth,\n",
    "                      activation_bits=activation_bits,\n",
    "                      weight_noise=0.00)\n",
    "\n",
    "model.compile(loss='categorical_crossentropy',\n",
    "              optimizer=Adam(),\n",
    "              metrics=['accuracy'])\n",
    "model.summary()\n",
    "print(model_type)"
   ]
  },
  {
   "cell_type": "code",
   "execution_count": 30,
   "metadata": {},
   "outputs": [
    {
     "name": "stdout",
     "output_type": "stream",
     "text": [
      "C:\\Users\\Weier Wan\\Dropbox\\cs231n\\cifar10_resnet\\model_checkpoint\\checkpoint\\Resnet20v1_act3b_wnoise0.20\n"
     ]
    },
    {
     "data": {
      "text/plain": [
       "<tensorflow.python.training.tracking.util.CheckpointLoadStatus at 0x247880014e0>"
      ]
     },
     "execution_count": 30,
     "metadata": {},
     "output_type": "execute_result"
    }
   ],
   "source": [
    "# Prepare model model saving directory.\n",
    "save_dir = os.path.join(os.getcwd(), 'model_checkpoint\\\\checkpoint')\n",
    "latest = tf.train.latest_checkpoint(save_dir)\n",
    "print(latest)\n",
    "model.load_weights(latest)"
   ]
  },
  {
   "cell_type": "code",
   "execution_count": 31,
   "metadata": {},
   "outputs": [
    {
     "name": "stdout",
     "output_type": "stream",
     "text": [
      "10000/10000 [==============================] - 27s 3ms/sample - loss: 0.4721 - acc: 0.83890s - loss: 0.4711 - acc: 0.83\n",
      "Test loss: 0.47208574788570407\n",
      "Test accuracy: 0.8389\n"
     ]
    }
   ],
   "source": [
    "# Score trained model.\n",
    "scores = model.evaluate(x_test_3bit, y_test, verbose=1)\n",
    "print('Test loss:', scores[0])\n",
    "print('Test accuracy:', scores[1])"
   ]
  },
  {
   "cell_type": "code",
   "execution_count": null,
   "metadata": {},
   "outputs": [],
   "source": []
  }
 ],
 "metadata": {
  "kernelspec": {
   "display_name": "Python 3",
   "language": "python",
   "name": "python3"
  },
  "language_info": {
   "codemirror_mode": {
    "name": "ipython",
    "version": 3
   },
   "file_extension": ".py",
   "mimetype": "text/x-python",
   "name": "python",
   "nbconvert_exporter": "python",
   "pygments_lexer": "ipython3",
   "version": "3.7.3"
  }
 },
 "nbformat": 4,
 "nbformat_minor": 2
}
